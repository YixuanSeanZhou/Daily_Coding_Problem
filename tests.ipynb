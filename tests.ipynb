{
 "cells": [
  {
   "cell_type": "code",
   "execution_count": 9,
   "id": "figured-durham",
   "metadata": {},
   "outputs": [],
   "source": [
    "import ctypes\n",
    "\n",
    "def get_pointer(obj):\n",
    "    return id(obj)\n",
    "\n",
    "def dereference_pointer(ptr):\n",
    "    return ctypes.cast(ptr, ctypes.py_object).value\n",
    "\n",
    "class Node:\n",
    "    def __init__(self, element):\n",
    "        self.data = element\n",
    "        self.both = 0\n",
    "\n",
    "class XorList:\n",
    "    def __init__(self):\n",
    "        self.head = None\n",
    "    \n",
    "    def add(self, element): \n",
    "        # Check for empty list\n",
    "        if not self.head:\n",
    "            self.head = Node(element)\n",
    "            return\n",
    "        \n",
    "        # Check for the only node case\n",
    "        if self.head.both == 0:\n",
    "            node = Node(element)\n",
    "            self.head.both = get_pointer(node)\n",
    "            print(self.head.both)\n",
    "            n = dereference_pointer(self.head.both)\n",
    "            print(n)\n",
    "            node.both = get_pointer(self.head)\n",
    "            n = dereference_pointer(self.head.both)\n",
    "            print(n)\n",
    "            return\n",
    "        \n",
    "        # General Case\n",
    "        pre_ptr = get_pointer(self.head)\n",
    "        print(self.head.both)\n",
    "        print(dereference_pointer(self.head.both))\n",
    "        return\n",
    "        curr = dereference_pointer(self.head.both)\n",
    "        while curr.both != pre_ptr:\n",
    "            tmp = get_pointer(curr)\n",
    "            curr = dereference_pointer(curr.both ^ pre_ptr)\n",
    "            pre_ptr = tmp\n",
    "        tail = Node(element)\n",
    "        tail.both = get_pointer(curr)\n",
    "        curr.both ^= get_pointer(tail) \n",
    "    \n",
    "    def get(self, idx):\n",
    "        # Check for empty list\n",
    "        if not self.head:\n",
    "            return None\n",
    "        \n",
    "        # Check for the first node case\n",
    "        if idx == 0:\n",
    "            return self.head.data\n",
    "        \n",
    "        # General Case\n",
    "        curr_idx = 1\n",
    "        pre_ptr = get_pointer(self.head)\n",
    "        curr = dereference_pointer(self.head.both)\n",
    "        while curr.both != pre_ptr and curr_idx < idx:\n",
    "            tmp = get_pointer(curr)\n",
    "            curr = dereference_pointer(curr.both ^ pre_ptr)\n",
    "            pre_ptr = tmp\n",
    "        \n",
    "        return None if curr_idx != idx else curr.datd\n"
   ]
  },
  {
   "cell_type": "code",
   "execution_count": 10,
   "id": "cleared-landscape",
   "metadata": {},
   "outputs": [],
   "source": [
    "l = XorList()"
   ]
  },
  {
   "cell_type": "code",
   "execution_count": 11,
   "id": "requested-trademark",
   "metadata": {},
   "outputs": [],
   "source": [
    "l.add(1)"
   ]
  },
  {
   "cell_type": "code",
   "execution_count": 12,
   "id": "metropolitan-controversy",
   "metadata": {},
   "outputs": [
    {
     "data": {
      "text/plain": [
       "1"
      ]
     },
     "execution_count": 12,
     "metadata": {},
     "output_type": "execute_result"
    }
   ],
   "source": [
    "l.get(0)"
   ]
  },
  {
   "cell_type": "code",
   "execution_count": 13,
   "id": "stopped-payroll",
   "metadata": {},
   "outputs": [
    {
     "name": "stdout",
     "output_type": "stream",
     "text": [
      "4339710992\n",
      "<__main__.Node object at 0x102aabc10>\n",
      "<__main__.Node object at 0x102aabc10>\n"
     ]
    }
   ],
   "source": [
    "l.add(2)"
   ]
  },
  {
   "cell_type": "code",
   "execution_count": null,
   "id": "traditional-iceland",
   "metadata": {},
   "outputs": [],
   "source": [
    "l.add(3)"
   ]
  },
  {
   "cell_type": "code",
   "execution_count": 1,
   "id": "cardiac-monthly",
   "metadata": {},
   "outputs": [
    {
     "ename": "NameError",
     "evalue": "name 'Node' is not defined",
     "output_type": "error",
     "traceback": [
      "\u001b[0;31m---------------------------------------------------------------------------\u001b[0m",
      "\u001b[0;31mNameError\u001b[0m                                 Traceback (most recent call last)",
      "\u001b[0;32m<ipython-input-1-f113583a21eb>\u001b[0m in \u001b[0;36m<module>\u001b[0;34m\u001b[0m\n\u001b[0;32m----> 1\u001b[0;31m \u001b[0mnode\u001b[0m \u001b[0;34m=\u001b[0m \u001b[0mNode\u001b[0m\u001b[0;34m(\u001b[0m\u001b[0;36m1\u001b[0m\u001b[0;34m)\u001b[0m\u001b[0;34m\u001b[0m\u001b[0;34m\u001b[0m\u001b[0m\n\u001b[0m",
      "\u001b[0;31mNameError\u001b[0m: name 'Node' is not defined"
     ]
    }
   ],
   "source": [
    "node = Node(1)"
   ]
  },
  {
   "cell_type": "code",
   "execution_count": 7,
   "id": "addressed-tumor",
   "metadata": {},
   "outputs": [
    {
     "data": {
      "text/plain": [
       "<ast.Module at 0x105505160>"
      ]
     },
     "execution_count": 7,
     "metadata": {},
     "output_type": "execute_result"
    }
   ],
   "source": [
    "dereference_pointer(4384117088)"
   ]
  },
  {
   "cell_type": "code",
   "execution_count": 29,
   "id": "preliminary-easter",
   "metadata": {},
   "outputs": [],
   "source": [
    "class Node:\n",
    "    def __init__(self, val):\n",
    "        self.children = []\n",
    "        for i in range(26):\n",
    "            self.children.append([])\n",
    "        self.val = val\n",
    "        self.leaf = False\n",
    "    \n",
    "    def insert(self, word):\n",
    "        \n",
    "        if len(word) == 0:\n",
    "            self.leaf = True\n",
    "            return\n",
    "\n",
    "        pre = word[0]\n",
    "        rest = word[1:]\n",
    "        pre_idx = ord(pre) - ord('a')\n",
    "\n",
    "        if not self.children[pre_idx]:\n",
    "            self.children[pre_idx] = Node(pre)\n",
    "        \n",
    "        self.children[pre_idx].insert(rest)\n",
    "        \n",
    "    def find(self, word):\n",
    "        \n",
    "        if len(word) == 0:\n",
    "            return self\n",
    "        \n",
    "        pre = word[0]\n",
    "        rest = word[1:]\n",
    "        pre_idx = ord(pre) - ord('a')\n",
    "\n",
    "        if not self.children[pre_idx]:\n",
    "            return None\n",
    "        else:\n",
    "            return self.children[pre_idx].find(rest)\n",
    "        \n",
    "    def dfs(self):\n",
    "        ret = []\n",
    "        for i in range(25):\n",
    "            if self.children[i]:\n",
    "                ret.append(self.children[i].dfs())\n",
    "        if self.leaf:\n",
    "            ret.append(self.val)\n",
    "        return ret\n",
    "\n",
    "class MultTrie:\n",
    "    def __init__(self):\n",
    "        self.root = Node('')\n",
    "    \n",
    "    def insert(self, word):\n",
    "        word = word.lower()\n",
    "        self.root.insert(word)\n",
    "    \n",
    "    def find(self, word):\n",
    "        word = word.lower()\n",
    "        return self.root.find(word)\n",
    "    \n",
    "    def dfs(self, node):\n",
    "        return node.dfs()"
   ]
  },
  {
   "cell_type": "code",
   "execution_count": 30,
   "metadata": {},
   "outputs": [],
   "source": [
    "trie = MultTrie()"
   ]
  },
  {
   "cell_type": "code",
   "execution_count": 31,
   "metadata": {},
   "outputs": [],
   "source": [
    "trie.insert('abc')"
   ]
  },
  {
   "cell_type": "code",
   "execution_count": 35,
   "metadata": {},
   "outputs": [
    {
     "output_type": "execute_result",
     "data": {
      "text/plain": [
       "'d'"
      ]
     },
     "metadata": {},
     "execution_count": 35
    }
   ],
   "source": [
    "r = trie.find('fzd')\n",
    "r.val"
   ]
  },
  {
   "cell_type": "code",
   "execution_count": 36,
   "metadata": {},
   "outputs": [
    {
     "output_type": "execute_result",
     "data": {
      "text/plain": [
       "[[['c'], ['d']]]"
      ]
     },
     "metadata": {},
     "execution_count": 36
    }
   ],
   "source": [
    "a_node = trie.find('a')\n",
    "trie.dfs(a_node)"
   ]
  },
  {
   "cell_type": "code",
   "execution_count": 34,
   "metadata": {},
   "outputs": [],
   "source": [
    "trie.insert('abd')\n",
    "trie.insert('cbd')\n",
    "trie.insert('ebd')\n",
    "trie.insert('fzd')\n"
   ]
  },
  {
   "cell_type": "code",
   "execution_count": 11,
   "metadata": {},
   "outputs": [
    {
     "output_type": "execute_result",
     "data": {
      "text/plain": [
       "'b'"
      ]
     },
     "metadata": {},
     "execution_count": 11
    }
   ],
   "source": [
    "trie.root.children[0].children[1].val"
   ]
  },
  {
   "cell_type": "code",
   "execution_count": null,
   "metadata": {},
   "outputs": [],
   "source": []
  }
 ],
 "metadata": {
  "kernelspec": {
   "display_name": "Python 3",
   "language": "python",
   "name": "python3"
  },
  "language_info": {
   "codemirror_mode": {
    "name": "ipython",
    "version": 3
   },
   "file_extension": ".py",
   "mimetype": "text/x-python",
   "name": "python",
   "nbconvert_exporter": "python",
   "pygments_lexer": "ipython3",
   "version": "3.8.5-final"
  }
 },
 "nbformat": 4,
 "nbformat_minor": 5
}